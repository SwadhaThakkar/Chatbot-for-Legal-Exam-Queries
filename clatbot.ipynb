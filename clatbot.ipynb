{
 "cells": [
  {
   "cell_type": "markdown",
   "id": "24bd9e81",
   "metadata": {},
   "source": [
    "# Chatbot for Legal Exam Queries\n",
    "\n",
    "This notebook demonstrates how to build a simple chatbot to answer frequently asked questions about the CLAT (Common Law Admission Test) exam.\n"
   ]
  },
  {
   "cell_type": "code",
   "execution_count": 1,
   "id": "bb1c2fd8",
   "metadata": {},
   "outputs": [],
   "source": [
    "#Import Libraries\n",
    "import pandas as pd\n",
    "import re\n",
    "import torch\n",
    "import requests\n",
    "from bs4 import BeautifulSoup\n",
    "from sentence_transformers import SentenceTransformer, util\n",
    "from parrot import Parrot\n",
    "import warnings\n",
    "warnings.filterwarnings(\"ignore\")"
   ]
  },
  {
   "cell_type": "code",
   "execution_count": 2,
   "id": "f32a6347",
   "metadata": {},
   "outputs": [],
   "source": [
    "#Utility Functions\n",
    "# Clean text by removing special characters and lowercasing\n",
    "def clean_text(text):\n",
    "    text = text.lower()\n",
    "    text = re.sub(r\"[^a-z0-9\\s]\", \"\", text)\n",
    "    return text.strip()\n",
    "\n",
    "# Extract visible text from a webpage\n",
    "def extract_full_text(url):\n",
    "    try:\n",
    "        response = requests.get(url, timeout=10)\n",
    "        soup = BeautifulSoup(response.content, \"html.parser\")\n",
    "        for script in soup([\"script\", \"style\"]): \n",
    "            script.decompose()\n",
    "        text = soup.get_text(separator=\"\\n\")\n",
    "        lines = [line.strip() for line in text.splitlines() if line.strip()]\n",
    "        return \"\\n\".join(lines)\n",
    "    except Exception as e:\n",
    "        return f\"Failed to extract from {url}: {str(e)}\"\n",
    " \n",
    " # Split text into smaller word-based chunks\n",
    "def chunk_text(text, chunk_size=30):\n",
    "    words = text.split()\n",
    "    chunks = [\" \".join(words[i:i+chunk_size]) for i in range(0, len(words), chunk_size)]\n",
    "    return chunks"
   ]
  },
  {
   "cell_type": "code",
   "execution_count": 3,
   "id": "91cbd35c",
   "metadata": {},
   "outputs": [
    {
     "data": {
      "text/html": [
       "<div>\n",
       "<style scoped>\n",
       "    .dataframe tbody tr th:only-of-type {\n",
       "        vertical-align: middle;\n",
       "    }\n",
       "\n",
       "    .dataframe tbody tr th {\n",
       "        vertical-align: top;\n",
       "    }\n",
       "\n",
       "    .dataframe thead th {\n",
       "        text-align: right;\n",
       "    }\n",
       "</style>\n",
       "<table border=\"1\" class=\"dataframe\">\n",
       "  <thead>\n",
       "    <tr style=\"text-align: right;\">\n",
       "      <th></th>\n",
       "      <th>question</th>\n",
       "      <th>answer</th>\n",
       "      <th>clean_question</th>\n",
       "    </tr>\n",
       "  </thead>\n",
       "  <tbody>\n",
       "    <tr>\n",
       "      <th>0</th>\n",
       "      <td>What is the syllabus for CLAT 2025?</td>\n",
       "      <td>The CLAT 2025 syllabus includes English Langua...</td>\n",
       "      <td>what is the syllabus for clat 2025</td>\n",
       "    </tr>\n",
       "    <tr>\n",
       "      <th>1</th>\n",
       "      <td>How many questions are there in the English se...</td>\n",
       "      <td>The English Language section typically has aro...</td>\n",
       "      <td>how many questions are there in the english se...</td>\n",
       "    </tr>\n",
       "    <tr>\n",
       "      <th>2</th>\n",
       "      <td>What was the cutoff for NLSIU Bangalore last y...</td>\n",
       "      <td>The CLAT 2024 cutoff rank for NLSIU Bangalore ...</td>\n",
       "      <td>what was the cutoff for nlsiu bangalore last year</td>\n",
       "    </tr>\n",
       "    <tr>\n",
       "      <th>3</th>\n",
       "      <td>What is the total duration of the CLAT exam?</td>\n",
       "      <td>The CLAT exam duration is 2 hours (120 minutes).</td>\n",
       "      <td>what is the total duration of the clat exam</td>\n",
       "    </tr>\n",
       "    <tr>\n",
       "      <th>4</th>\n",
       "      <td>What is the marking scheme in CLAT?</td>\n",
       "      <td>Each correct answer gives you 1 mark and 0.25 ...</td>\n",
       "      <td>what is the marking scheme in clat</td>\n",
       "    </tr>\n",
       "  </tbody>\n",
       "</table>\n",
       "</div>"
      ],
      "text/plain": [
       "                                            question  \\\n",
       "0                What is the syllabus for CLAT 2025?   \n",
       "1  How many questions are there in the English se...   \n",
       "2  What was the cutoff for NLSIU Bangalore last y...   \n",
       "3       What is the total duration of the CLAT exam?   \n",
       "4                What is the marking scheme in CLAT?   \n",
       "\n",
       "                                              answer  \\\n",
       "0  The CLAT 2025 syllabus includes English Langua...   \n",
       "1  The English Language section typically has aro...   \n",
       "2  The CLAT 2024 cutoff rank for NLSIU Bangalore ...   \n",
       "3   The CLAT exam duration is 2 hours (120 minutes).   \n",
       "4  Each correct answer gives you 1 mark and 0.25 ...   \n",
       "\n",
       "                                      clean_question  \n",
       "0                 what is the syllabus for clat 2025  \n",
       "1  how many questions are there in the english se...  \n",
       "2  what was the cutoff for nlsiu bangalore last year  \n",
       "3        what is the total duration of the clat exam  \n",
       "4                 what is the marking scheme in clat  "
      ]
     },
     "execution_count": 3,
     "metadata": {},
     "output_type": "execute_result"
    }
   ],
   "source": [
    "# Load the Dataset\n",
    "# Load the pre-generated dataset (with original + paraphrased questions)\n",
    "df_expanded = pd.read_csv(\"clat_qa_dataset_with_paraphrases.csv\")\n",
    "\n",
    "# Clean (if not already cleaned in the file)\n",
    "df_expanded[\"clean_question\"] = df_expanded[\"question\"].apply(clean_text)\n",
    "\n",
    "# Preview\n",
    "df_expanded.head()"
   ]
  },
  {
   "cell_type": "code",
   "execution_count": 4,
   "id": "ee405b0d",
   "metadata": {},
   "outputs": [],
   "source": [
    "#Web Scraping for Additional CLAT Info\n",
    "urls = [\n",
    "    \"http://www.clpd.resonance.ac.in/studentzone/faq-CLAT.aspx\",\n",
    "    \"https://consortiumofnlus.ac.in/clat-2025/FAQs.html\",\n",
    "    \"https://knowledgenation.co.in/FAQ'S_General\",\n",
    "    \"https://law.careers360.com/articles/clat-faqs\",\n",
    "    \"https://vidhigya.com/blog/frequently-asked-questions-about-clat/\"\n",
    "]\n",
    "\n",
    "extracted_data = []\n",
    "for url in urls:\n",
    "    content = extract_full_text(url)\n",
    "    extracted_data.append({\"url\": url, \"text\": content})\n",
    "\n",
    "df_web = pd.DataFrame(extracted_data)\n",
    "df_web[\"clean_text\"] = df_web[\"text\"].apply(clean_text)\n",
    "\n",
    "# Save web data\n",
    "df_web.to_csv(\"faq_web_data.csv\", index=False)"
   ]
  },
  {
   "cell_type": "code",
   "execution_count": 5,
   "id": "484a3de8",
   "metadata": {},
   "outputs": [],
   "source": [
    "#Chunk and Embed Web Text\n",
    "all_chunks = []\n",
    "for _, row in df_web.iterrows():\n",
    "    chunks = chunk_text(row[\"clean_text\"])\n",
    "    all_chunks.extend(chunks)\n",
    "\n",
    "df_chunks = pd.DataFrame({\"chunk\": all_chunks})"
   ]
  },
  {
   "cell_type": "code",
   "execution_count": 6,
   "id": "7468e595",
   "metadata": {},
   "outputs": [],
   "source": [
    "# Load Embedding Model & Generate Embeddings\n",
    "device = torch.device(\"cuda\" if torch.cuda.is_available() else \"cpu\")\n",
    "model = SentenceTransformer(\"all-MiniLM-L6-v2\", device=device)\n",
    "\n",
    "# Generate Embeddings\n",
    "question_embeddings = model.encode(df_expanded['clean_question'].tolist(), convert_to_tensor=True)\n",
    "web_embeddings = model.encode(df_chunks['chunk'].tolist(), convert_to_tensor=True)"
   ]
  },
  {
   "cell_type": "code",
   "execution_count": 7,
   "id": "3a74bb21",
   "metadata": {},
   "outputs": [],
   "source": [
    "#Define Answer Retrieval Logic\n",
    "def get_answer_with_web_fallback(user_query, df_faq, faq_embeddings, df_chunks, web_embeddings, model, threshold=0.65):\n",
    "    cleaned_query = clean_text(user_query)\n",
    "    query_embedding = model.encode(cleaned_query, convert_to_tensor=True)\n",
    "\n",
    "    # Match from FAQ dataset\n",
    "    faq_similarities = util.pytorch_cos_sim(query_embedding, faq_embeddings)\n",
    "    top_faq_idx = torch.argmax(faq_similarities)\n",
    "    top_faq_score = faq_similarities[0][top_faq_idx].item()\n",
    "\n",
    "    if top_faq_score >= threshold:\n",
    "        return df_faq.iloc[top_faq_idx.item()][\"answer\"]\n",
    "\n",
    "    # Fallback: Match from web scraped chunks\n",
    "    web_similarities = util.pytorch_cos_sim(query_embedding, web_embeddings)\n",
    "    top_web_idx = torch.argmax(web_similarities)\n",
    "    top_web_score = web_similarities[0][top_web_idx].item()\n",
    "\n",
    "    if top_web_score >= threshold:\n",
    "        return df_chunks.iloc[top_web_idx.item()][\"chunk\"]\n",
    "\n",
    "    return \"I'm sorry, I don't have an answer to that question at the moment. You can try rephrasing it or visit the official CLAT website for more information.\""
   ]
  },
  {
   "cell_type": "code",
   "execution_count": 8,
   "id": "8421f8b1",
   "metadata": {},
   "outputs": [
    {
     "name": "stdout",
     "output_type": "stream",
     "text": [
      "User: What’s the maximum age to appear for CLAT?\n",
      "Bot: No, there is no upper age limit for appearing in the CLAT exam.\n",
      "\n",
      "User: What is CLAT?\n",
      "Bot: CLAT stands for Common Law Admission Test. It is an entrance exam conducted all over India for admission into various law courses in participating law schools. CLAT is conducted for undergraduate students (5 year dual degree programs which have LLB and degrees awarded from BA to BSc, BBA, and B.Com) as well as for Graduate students opting for LLM programs.\n",
      "\n",
      "User: I have done engineering. Can I appear in CLAT?\n",
      "Bot: I'm sorry, I don't have an answer to that question at the moment. You can try rephrasing it or visit the official CLAT website for more information.\n"
     ]
    }
   ],
   "source": [
    "# Example 1\n",
    "query = \"What’s the maximum age to appear for CLAT?\"\n",
    "answer = get_answer_with_web_fallback(query, df_expanded, question_embeddings, df_chunks, web_embeddings, model)\n",
    "print(\"User:\", query)\n",
    "print(\"Bot:\", answer)\n",
    "\n",
    "# Example 2\n",
    "query = \"What is CLAT?\"\n",
    "answer = get_answer_with_web_fallback(query, df_expanded, question_embeddings, df_chunks, web_embeddings, model)\n",
    "print(\"\\nUser:\", query)\n",
    "print(\"Bot:\", answer)\n",
    "\n",
    "# Example 3\n",
    "query = \"I have done engineering. Can I appear in CLAT?\"\n",
    "answer = get_answer_with_web_fallback(query, df_expanded, question_embeddings, df_chunks, web_embeddings, model)\n",
    "print(\"\\nUser:\", query)\n",
    "print(\"Bot:\", answer)"
   ]
  }
 ],
 "metadata": {
  "kernelspec": {
   "display_name": "Python 3",
   "language": "python",
   "name": "python3"
  },
  "language_info": {
   "codemirror_mode": {
    "name": "ipython",
    "version": 3
   },
   "file_extension": ".py",
   "mimetype": "text/x-python",
   "name": "python",
   "nbconvert_exporter": "python",
   "pygments_lexer": "ipython3",
   "version": "3.11.9"
  }
 },
 "nbformat": 4,
 "nbformat_minor": 5
}
